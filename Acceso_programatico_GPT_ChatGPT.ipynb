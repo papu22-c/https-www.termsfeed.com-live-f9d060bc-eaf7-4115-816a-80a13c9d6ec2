{
  "nbformat": 4,
  "nbformat_minor": 0,
  "metadata": {
    "colab": {
      "provenance": [],
      "include_colab_link": true
    },
    "kernelspec": {
      "name": "python3",
      "display_name": "Python 3"
    },
    "language_info": {
      "name": "python"
    }
  },
  "cells": [
    {
      "cell_type": "markdown",
      "metadata": {
        "id": "view-in-github",
        "colab_type": "text"
      },
      "source": [
        "<a href=\"https://colab.research.google.com/github/papu22-c/https-www.termsfeed.com-live-f9d060bc-eaf7-4115-816a-80a13c9d6ec2/blob/main/Acceso_programatico_GPT_ChatGPT.ipynb\" target=\"_parent\"><img src=\"https://colab.research.google.com/assets/colab-badge.svg\" alt=\"Open In Colab\"/></a>"
      ]
    },
    {
      "cell_type": "markdown",
      "metadata": {
        "id": "3cb7b12c"
      },
      "source": [
        "# Acceso programático a GPT y ChatGPT"
      ]
    },
    {
      "cell_type": "markdown",
      "metadata": {
        "id": "42e9ea52"
      },
      "source": [
        "<div style=\"background-color:#D9EEFF;color:black;padding:2%;\">\n",
        "<h2>Enunciado del caso práctico</h2>\n",
        "\n",
        "En este caso práctico, se propone el desarrollo de una aplicación que permita a los usuarios acceder a ChatGPT de manera programática a través de su API.\n",
        "\n",
        "El objetivo es crear una solución que posibilite a los desarrolladores interactuar con ChatGPT de manera efectiva y obtener respuestas en tiempo real mediante el uso de la API key proporcionada por OpenAI.\n",
        "\n",
        "</div>"
      ]
    },
    {
      "cell_type": "markdown",
      "metadata": {
        "id": "831d29b1"
      },
      "source": [
        "# Resolución del caso práctico"
      ]
    },
    {
      "cell_type": "markdown",
      "source": [
        "## 0. Instalación de librerías externas"
      ],
      "metadata": {
        "id": "-V8dgd_BUeOK"
      }
    },
    {
      "cell_type": "code",
      "source": [
        "!pip install openai==0.28"
      ],
      "metadata": {
        "id": "ScQcgtCkUhD7"
      },
      "execution_count": null,
      "outputs": []
    },
    {
      "cell_type": "markdown",
      "metadata": {
        "id": "e7d620f6"
      },
      "source": [
        "## 1. Lectura de la API Key"
      ]
    },
    {
      "cell_type": "code",
      "source": [
        "import openai\n",
        "\n",
        "with open(\"/content/drive/MyDrive/api-keys/secret-key.txt\") as f:\n",
        "  openai.api_key = f.readline()"
      ],
      "metadata": {
        "id": "pVplMtLdUx2w"
      },
      "execution_count": null,
      "outputs": []
    },
    {
      "cell_type": "code",
      "source": [
        "print(openai.api_key)"
      ],
      "metadata": {
        "id": "R9caev5gVyfM"
      },
      "execution_count": null,
      "outputs": []
    },
    {
      "cell_type": "markdown",
      "source": [
        "## 2. Selección del modelo"
      ],
      "metadata": {
        "id": "kjNFCLMHWCXs"
      }
    },
    {
      "cell_type": "markdown",
      "source": [
        "OpenAI nos ofrece una amplia variedad de modelos que podemos utilizar de manera programática para diferentes tareas.\n",
        "\n",
        "Nosotros estamos interesados en LLMs específicamente entrenados para entender lenguaje natural e interactuar con el usuario en forma de chat.\n",
        "\n",
        "Teniendo esto en cuenta, podemos elegir entre los siguientes: https://platform.openai.com/docs/guides/gpt\n",
        "\n",
        "Para este caso práctico vamos a seleccionar `gpt-3.5-turbo`"
      ],
      "metadata": {
        "id": "OP3Zs5O1WHER"
      }
    },
    {
      "cell_type": "code",
      "source": [
        "def obtener_completion(prompt, model=\"gpt-3.5-turbo\"):\n",
        "  mensaje = [{\"role\": \"user\", \"content\": prompt}]\n",
        "  respuesta = openai.ChatCompletion.create(\n",
        "      model=model,\n",
        "      messages=mensaje,\n",
        "      temperature=0, # Este hiperparámetro controla la aleatoriedad del modelo\n",
        "  )\n",
        "  return respuesta.choices[0].message[\"content\"]"
      ],
      "metadata": {
        "id": "dkxOGRD-WF3p"
      },
      "execution_count": null,
      "outputs": []
    },
    {
      "cell_type": "markdown",
      "source": [
        "## 3. Predicción/Generación de texto"
      ],
      "metadata": {
        "id": "Ej2wP15VXrPY"
      }
    },
    {
      "cell_type": "code",
      "source": [
        "prompt = f\"\"\"Teniendo en cuenta el texto que se proporciona entre triples comillas simples, \\\n",
        "tu tarea es extraer todas las fechas que aparecen y una descripción de no más de 10 palabras \\\n",
        "de lo que ocurrió en esa fecha.\n",
        "\n",
        "El formato de salida debe ser el siguiente:\n",
        "<fecha1>:<descripcion1>\n",
        "<fecha2>:<descripcion2>\n",
        "...\n",
        "<fechaN>:<descipcionN>\n",
        "\n",
        "Texto:\n",
        "'''\n",
        "La Segunda Guerra Mundial (también escrito II Guerra Mundial)1​ fue un conflicto militar global que se desarrolló entre 1939 y 1945. En ella se vieron implicadas la mayor parte de las naciones del mundo —incluidas todas las grandes potencias, así como prácticamente todas las naciones europeas— agrupadas en dos alianzas militares enfrentadas: los Aliados, por un lado, y las Potencias del Eje, por otro. Fue la mayor contienda bélica de la historia, con más de 100 millones de militares movilizados y un estado de guerra total en que los grandes contendientes destinaron toda su capacidad económica, militar y científica al servicio del esfuerzo bélico, borrando la distinción entre recursos civiles y militares. Marcada por hechos de enorme repercusión que incluyeron la muerte masiva de civiles (el Holocausto, los bombardeos masivos sobre ciudades y el uso, por primera vez en un conflicto militar, de armas nucleares), la Segunda Guerra Mundial fue la más mortífera de la historia, con un resultado de entre 50 y 70 millones de víctimas, el 2,5 % de la población mundial.2​\n",
        "\n",
        "El comienzo del conflicto se suele situar en el 1 de septiembre de 1939, con la invasión alemana de Polonia, cuando Hitler se decidió a la incorporación de una de sus reivindicaciones expansionistas más delicadas: El Corredor Polaco, que implicaba la invasión de la mitad occidental de Polonia; la mitad oriental, junto con Estonia, Letonia y Lituania fue ocupada por la Unión Soviética, mientras que Finlandia logró mantener su independencia de los soviéticos (guerra de Invierno). El Reino Unido y Francia le declararon la guerra a Alemania, que esperaban como una repetición de la guerra de trincheras («guerra de mentira») para la que habían tomado toda clase de precauciones (línea Maginot) que demostraron ser del todo inútiles. Las maniobras espectaculares de la blitzkrieg (\"guerra relámpago\") proporcionaron en pocos meses a Alemania el control de Noruega, Dinamarca, Países Bajos, Bélgica y la propia Francia, mientras que el ejército británico escapaba in extremis desde las playas de Dunkerque durante la batalla de Francia. La mayor parte del continente europeo estaba ocupado por el ejército alemán o por sus aliados, entre los que destacaba la Italia fascista, cuya aportación militar no fue muy significativa (batalla de los Alpes, guerra greco-italiana).\n",
        "\n",
        "La batalla de Inglaterra, la primera completamente aérea de la historia, mantuvo durante el periodo siguiente la presión sobre el nuevo gobierno de Winston Churchill, decidido a la resistencia («sangre, sudor y lágrimas») y que finalmente venció, entre otras cosas gracias a una innovación tecnológica (el radar) y al decisivo apoyo estadounidense, que negoció en varias entrevistas con Franklin D. Roosevelt (Carta del Atlántico, 14 de agosto de 1941).\n",
        "'''\n",
        "\"\"\""
      ],
      "metadata": {
        "id": "Lrw-S4VgXxBo"
      },
      "execution_count": null,
      "outputs": []
    },
    {
      "cell_type": "code",
      "source": [
        "print(prompt)"
      ],
      "metadata": {
        "id": "XistqClIZABM"
      },
      "execution_count": null,
      "outputs": []
    },
    {
      "cell_type": "code",
      "source": [
        "respuesta = obtener_completion(prompt)"
      ],
      "metadata": {
        "id": "flnGoDmiZBbV"
      },
      "execution_count": null,
      "outputs": []
    },
    {
      "cell_type": "code",
      "source": [
        "print(respuesta)"
      ],
      "metadata": {
        "id": "GDOadRuBZJWp"
      },
      "execution_count": null,
      "outputs": []
    }
  ]
}